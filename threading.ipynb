{
 "cells": [
  {
   "cell_type": "code",
   "execution_count": 8,
   "metadata": {},
   "outputs": [],
   "source": [
    "from ast import arguments\n",
    "import numpy as np\n",
    "import queue\n",
    "from threading import Thread, Lock\n",
    "import time\n",
    "from func_timeout import func_timeout\n",
    "\n",
    "lock = Lock()\n",
    "\n",
    "\n",
    "def flatten(t):\n",
    "    \"\"\"Flatten a list of lists, e.g. [[a,b],[c]] --> [a,b,c] \"\"\"\n",
    "    return [\n",
    "        item for sublist in t if sublist != None for item in sublist\n",
    "        if item != None\n",
    "    ]\n",
    "\n",
    "\n",
    "def _process_multi_func(idx_args_funcs: list, verbose: bool, timeout: int | None, retries: int) -> list | None:\n",
    "    results: list = []\n",
    "    iden = np.random.randint(1000)\n",
    "    # print(f\"Thread {iden} started\")\n",
    "    # as long as we have function calls remaining\n",
    "    while len(idx_args_funcs) > 0:\n",
    "        with lock:\n",
    "            idx, argument, func = idx_args_funcs.pop(-1)\n",
    "        try:\n",
    "            if timeout is None:\n",
    "                result = func(*argument) # get result of function call)\n",
    "            else:\n",
    "                try:\n",
    "                    result = func_timeout(timeout, func, argument)\n",
    "                except:\n",
    "                    raise Exception(f\"The function call for args {argument} has time out.\")\n",
    "            if verbose:\n",
    "                print(f\"Function call {idx} successful with result {result}\")\n",
    "        except: # notify user that call has failed\n",
    "            result = None \n",
    "            print(f\"Function call {idx} has failed\")\n",
    "            pass\n",
    "        \n",
    "        \n",
    "        if result is not None:\n",
    "            results.append((idx, argument, result))\n",
    "\n",
    "    if len(results) >= 1: # return results if there are any\n",
    "        return results\n",
    "\n",
    "\n",
    "def process_parallel_multifunc(funcs: callable, arguments: list[list], timeout: float | None = None, \n",
    "                     retries: int = 1, n_threads: int = 5, verbose=False) -> tuple[list[list], list]:\n",
    "    \"\"\" This function created multiple (n_thread) threads and processes them in parallel. It\n",
    "    takes in a function & a list of arguments and distributes the function calls (with the respective\n",
    "    arguments) across those threads. Especially useful when dealing with e.g. scraping where you might \n",
    "    have a limit on the number of threads that can be run in parallel.\n",
    "\n",
    "    Args:\n",
    "        funcs (list[executable]): list of functions used for processing\n",
    "        arguments (list[list]): list of arguments that should be passed to the function ([[arg1, arg2], [arg1, arg2], ...])\n",
    "        retries (int, optional): number of retries for each function. Useful for scraping & other functions that may occasionally fail Defaults to 1.\n",
    "        n_threads (int, optional): number of threads to use. Defaults to 5.\n",
    "        verbose (bool, optional): verbosity of the function. true = printout, false = silent. Defaults to False.\n",
    "\n",
    "    Returns:\n",
    "        tuple[list[list], list]: _description_\n",
    "    \"\"\"\n",
    "\n",
    "    indices = list(\n",
    "        np.arange(len(arguments))\n",
    "    )  # indeces are needed to keep track of which order things should be returned in\n",
    "    idx_args_funcs = [(idx, arg, func) for idx, arg, func in zip(indices, arguments, funcs)]\n",
    "    threads_list = []  # list to store the different threads\n",
    "    que = queue.Queue()  # queure from which the threads take their data\n",
    "\n",
    "    # creates desired number of threads\n",
    "    for _ in range(n_threads):\n",
    "        threads_list.append(\n",
    "            Thread(target=lambda q, arg1, arg2: q.put(\n",
    "                _process_multi_func(idx_args_funcs, verbose, timeout, retries)),\n",
    "                   args=(que, indices, arguments)))\n",
    "        threads_list[-1].start()\n",
    "\n",
    "    # waits until all data is processed\n",
    "    time.sleep(1)\n",
    "    while len(idx_args_funcs) > 1:\n",
    "        time.sleep(0.001) # on some systems (e.g. Mac M1 Pro chips) if no time.sleep is included the while loop slows down\n",
    "        # the threaded function calls significantly. No idea why but oh well...\n",
    "        pass\n",
    "\n",
    "    for thread in threads_list:\n",
    "        thread.join()\n",
    "\n",
    "    if verbose:\n",
    "        print(\"Threads joined\")\n",
    "    results = []\n",
    "\n",
    "    while not que.empty():\n",
    "        results.append(que.get())\n",
    "    print(\"Results complete\")\n",
    "\n",
    "    results = flatten(results)\n",
    "    sorted_results = sorted(results, key=lambda tup: tup[0])\n",
    "    print(sorted_results)\n",
    "    \n",
    "    return [i[1] for i in sorted_results], [i[2] for i in sorted_results]\n",
    "\n",
    "from unittest import result\n",
    "from func_timeout import func_timeout"
   ]
  },
  {
   "cell_type": "code",
   "execution_count": 9,
   "metadata": {},
   "outputs": [
    {
     "name": "stdout",
     "output_type": "stream",
     "text": [
      "Results complete\n",
      "[(0, [1, 2], 2), (1, [3, 4], 7), (2, [5, 6], 30), (3, [7, 8], 15)]\n"
     ]
    }
   ],
   "source": [
    "funcA = lambda x,y: x*y\n",
    "funcB = lambda x,y: x+y\n",
    "\n",
    "\n",
    "args = [[1,2], [3,4], [5,6], [7,8]]\n",
    "funcs = [funcA, funcB, funcA, funcB]\n",
    "\n",
    "\n",
    "\n",
    "results = process_parallel(funcs, args, timeout = 5)"
   ]
  },
  {
   "cell_type": "code",
   "execution_count": 10,
   "metadata": {},
   "outputs": [
    {
     "data": {
      "text/plain": [
       "([[1, 2], [3, 4], [5, 6], [7, 8]], [2, 7, 30, 15])"
      ]
     },
     "execution_count": 10,
     "metadata": {},
     "output_type": "execute_result"
    }
   ],
   "source": [
    "results"
   ]
  }
 ],
 "metadata": {
  "kernelspec": {
   "display_name": "Python 3.10.4 ('py310')",
   "language": "python",
   "name": "python3"
  },
  "language_info": {
   "codemirror_mode": {
    "name": "ipython",
    "version": 3
   },
   "file_extension": ".py",
   "mimetype": "text/x-python",
   "name": "python",
   "nbconvert_exporter": "python",
   "pygments_lexer": "ipython3",
   "version": "3.10.4"
  },
  "orig_nbformat": 4,
  "vscode": {
   "interpreter": {
    "hash": "615ac7b83fd467ecca4318ccde15abf6044728011e27fa870160b11f2a2c1731"
   }
  }
 },
 "nbformat": 4,
 "nbformat_minor": 2
}
