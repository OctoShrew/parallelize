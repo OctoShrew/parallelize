{
 "cells": [
  {
   "cell_type": "code",
   "execution_count": 1,
   "metadata": {},
   "outputs": [],
   "source": [
    "from src.process_parallel import *"
   ]
  },
  {
   "cell_type": "code",
   "execution_count": 3,
   "metadata": {},
   "outputs": [
    {
     "name": "stdout",
     "output_type": "stream",
     "text": [
      "Results complete\n"
     ]
    }
   ],
   "source": [
    "funcA = lambda x,y: x*y\n",
    "# funcB = lambda x,y: x+y\n",
    "\n",
    "\n",
    "args = [[1,2], [3,4], [5,6], [7,8]]\n",
    "# funcs = [funcA, funcB, funcA, funcB]\n",
    "\n",
    "\n",
    "\n",
    "results = process_parallel(funcA, args, timeout = 5)"
   ]
  },
  {
   "cell_type": "code",
   "execution_count": 4,
   "metadata": {},
   "outputs": [
    {
     "name": "stdout",
     "output_type": "stream",
     "text": [
      "Function call 1 has failed\n",
      "Function call 0 has failed\n",
      "Results complete\n"
     ]
    }
   ],
   "source": [
    "funcA = lambda x,y: x*y\n",
    "funcB = lambda x,y: x+y\n",
    "\n",
    "\n",
    "args = [[\"a\",\"b\"],[\"c\",\"d\"]]\n",
    "funcs = [funcA, funcB, funcA, funcB]\n",
    "\n",
    "\n",
    "\n",
    "results = process_parallel(funcA, args, timeout = 5)"
   ]
  },
  {
   "cell_type": "code",
   "execution_count": 8,
   "metadata": {},
   "outputs": [
    {
     "name": "stdout",
     "output_type": "stream",
     "text": [
      "True\n"
     ]
    }
   ],
   "source": [
    "func = \"A\"\n",
    "\n",
    "args = [[1,2], [3,4], [5,6], [7,8]]\n",
    "try:\n",
    "    results = process_parallel(func, args, timeout = 5)\n",
    "except Exception as e:\n",
    "    print(isinstance(e, AssertionError))"
   ]
  }
 ],
 "metadata": {
  "kernelspec": {
   "display_name": "Python 3.10.4 ('py310')",
   "language": "python",
   "name": "python3"
  },
  "language_info": {
   "codemirror_mode": {
    "name": "ipython",
    "version": 3
   },
   "file_extension": ".py",
   "mimetype": "text/x-python",
   "name": "python",
   "nbconvert_exporter": "python",
   "pygments_lexer": "ipython3",
   "version": "3.10.4"
  },
  "orig_nbformat": 4,
  "vscode": {
   "interpreter": {
    "hash": "615ac7b83fd467ecca4318ccde15abf6044728011e27fa870160b11f2a2c1731"
   }
  }
 },
 "nbformat": 4,
 "nbformat_minor": 2
}
