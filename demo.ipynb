{
 "cells": [
  {
   "cell_type": "code",
   "execution_count": 1,
   "metadata": {},
   "outputs": [],
   "source": [
    "from src.process_parallel import *\n",
    "from src.parallelizer import Parallelizer\n",
    "import requests\n",
    "import time\n",
    "from tqdm import tqdm"
   ]
  },
  {
   "cell_type": "markdown",
   "metadata": {},
   "source": [
    "# Parallelizer"
   ]
  },
  {
   "cell_type": "code",
   "execution_count": 2,
   "metadata": {},
   "outputs": [],
   "source": [
    "# we'll create a list with 100 websites (for simplicity 100 time the same)\n",
    "\n",
    "websites = [\"https://octoshrew.com\"]*100\n",
    "parallel_websites = [[website] for website in websites]\n",
    "multi = [[0,1], [1,2], [2,3], [3,4], [5,6], [6,7], [7,8], [8,9]]"
   ]
  },
  {
   "cell_type": "code",
   "execution_count": 3,
   "metadata": {},
   "outputs": [],
   "source": [
    "# create paralellizer object\n",
    "parallelizer = Parallelizer()\n",
    "\n",
    "\n",
    "# define some functions\n",
    "def scrape(website): \n",
    "    return requests.get(website).content\n",
    "\n",
    "def multiply(x, y):\n",
    "    return x*y\n",
    "\n",
    "# add the functions & input to parallelizer\n",
    "parallelizer.add_function(scrape, parallel_websites)\n",
    "parallelizer.add_function(multiply, multi)"
   ]
  },
  {
   "cell_type": "code",
   "execution_count": 4,
   "metadata": {},
   "outputs": [
    {
     "name": "stdout",
     "output_type": "stream",
     "text": [
      "Results complete\n"
     ]
    }
   ],
   "source": [
    "# run it with any number of desired threads\n",
    "result = parallelizer.run(n_threads = 30)"
   ]
  },
  {
   "cell_type": "code",
   "execution_count": 5,
   "metadata": {},
   "outputs": [
    {
     "data": {
      "text/plain": [
       "[0, 2, 6, 12, 30, 42, 56, 72]"
      ]
     },
     "execution_count": 5,
     "metadata": {},
     "output_type": "execute_result"
    }
   ],
   "source": [
    "result[\"multiply\"]"
   ]
  },
  {
   "cell_type": "markdown",
   "metadata": {},
   "source": [
    "# Process One Function in Parallel"
   ]
  },
  {
   "cell_type": "markdown",
   "metadata": {},
   "source": [
    "running it traditionally takes around 14 seconds (may vary depending on your internet speed)"
   ]
  },
  {
   "cell_type": "code",
   "execution_count": 3,
   "metadata": {},
   "outputs": [
    {
     "name": "stderr",
     "output_type": "stream",
     "text": [
      "100%|██████████| 100/100 [00:12<00:00,  7.95it/s]"
     ]
    },
    {
     "name": "stdout",
     "output_type": "stream",
     "text": [
      "Execution time: 12.618801832199097\n"
     ]
    },
    {
     "name": "stderr",
     "output_type": "stream",
     "text": [
      "\n"
     ]
    }
   ],
   "source": [
    "start = time.time()\n",
    "responses = []\n",
    "for website in tqdm(websites):\n",
    "    responses.append(requests.get(website))\n",
    "stop = time.time()\n",
    "print(f\"Execution time: {stop-start}\")"
   ]
  },
  {
   "cell_type": "markdown",
   "metadata": {},
   "source": [
    "with the convenient parallelization, we can get it done in ~2 seconds with less lines of code"
   ]
  },
  {
   "cell_type": "code",
   "execution_count": 4,
   "metadata": {},
   "outputs": [
    {
     "name": "stdout",
     "output_type": "stream",
     "text": [
      "Results complete\n",
      "Execution time: 2.408428907394409\n"
     ]
    }
   ],
   "source": [
    "start = time.time()\n",
    "results = process_parallel(requests.get, parallel_websites, n_threads=50)\n",
    "stop = time.time()\n",
    "print(f\"Execution time: {stop-start}\")"
   ]
  },
  {
   "cell_type": "markdown",
   "metadata": {},
   "source": [
    "# Find first returned result"
   ]
  },
  {
   "cell_type": "markdown",
   "metadata": {},
   "source": [
    "This time around, let's say we have multiple websites, and all of them have the information we need (say we want to serve fast information about the weather and have multiple websites we can get that info from). We want to query all of the website and then get the result from the one that responded the fastest:"
   ]
  },
  {
   "cell_type": "code",
   "execution_count": 5,
   "metadata": {},
   "outputs": [
    {
     "name": "stdout",
     "output_type": "stream",
     "text": [
      "Execution time: 0.28972387313842773\n"
     ]
    }
   ],
   "source": [
    "start = time.time()\n",
    "results = process_first(requests.get, parallel_websites, n_threads=100)\n",
    "stop = time.time()\n",
    "print(f\"Execution time: {stop-start}\")"
   ]
  },
  {
   "cell_type": "markdown",
   "metadata": {},
   "source": [
    "Note, this is also extremely usefuls in situations like for instance pathfinding and other computational problems where you can explore multiple options but only care about the one that gives the first result."
   ]
  },
  {
   "cell_type": "markdown",
   "metadata": {},
   "source": [
    "# Parallelization with multiple functions"
   ]
  },
  {
   "cell_type": "markdown",
   "metadata": {},
   "source": [
    "This works similarly to the previous process_parallel function, but here we also allow different functions to be passed at the same time"
   ]
  },
  {
   "cell_type": "code",
   "execution_count": 7,
   "metadata": {},
   "outputs": [
    {
     "name": "stdout",
     "output_type": "stream",
     "text": [
      "Results complete\n",
      "15\n"
     ]
    }
   ],
   "source": [
    "funcA = lambda x,y: x*y\n",
    "funcB = lambda x,y: x+y\n",
    "\n",
    "args = [[1,2], [3,4], [5,6], [7,8]]\n",
    "funcs = [funcA, funcB, funcA, funcB]\n",
    "\n",
    "results = process_parallel_multifunc(funcs, args, timeout = 5)\n",
    "print(results[-1])"
   ]
  }
 ],
 "metadata": {
  "kernelspec": {
   "display_name": "Python 3.10.4 ('py310')",
   "language": "python",
   "name": "python3"
  },
  "language_info": {
   "codemirror_mode": {
    "name": "ipython",
    "version": 3
   },
   "file_extension": ".py",
   "mimetype": "text/x-python",
   "name": "python",
   "nbconvert_exporter": "python",
   "pygments_lexer": "ipython3",
   "version": "3.10.4"
  },
  "orig_nbformat": 4,
  "vscode": {
   "interpreter": {
    "hash": "615ac7b83fd467ecca4318ccde15abf6044728011e27fa870160b11f2a2c1731"
   }
  }
 },
 "nbformat": 4,
 "nbformat_minor": 2
}
